{
 "cells": [
  {
   "cell_type": "code",
   "execution_count": 1,
   "metadata": {},
   "outputs": [],
   "source": [
    "from bs4 import BeautifulSoup\n",
    "import requests"
   ]
  },
  {
   "cell_type": "code",
   "execution_count": 2,
   "metadata": {},
   "outputs": [],
   "source": [
    "def getSqJobs():\n",
    "    \"\"\"\n",
    "    This function will return the current jobs posted on selectquotecareer.com.\n",
    "    \n",
    "    soup is the html of the entire page.\n",
    "    match is all positions-container div tags\n",
    "    loops through all position transition li tags and takes the h2 text (The job title).\n",
    "    \n",
    "    Returns tuple to be used directly in SQL WHERE IN statement.\n",
    "    \"\"\"\n",
    "    jobs = []\n",
    "    source = requests.get('https://www.selectquotecareer.com').text\n",
    "    soup = BeautifulSoup(source,'lxml')\n",
    "    match = soup.find('div' ,class_ = 'positions-container')\n",
    "    for x in match.find_all('li',class_='position transition'):\n",
    "        jobs.append(x.h2.text)\n",
    "    return tuple(jobs)"
   ]
  },
  {
   "cell_type": "code",
   "execution_count": 3,
   "metadata": {},
   "outputs": [
    {
     "data": {
      "text/plain": [
       "('Senior Sales Agent - CO - February Start',\n",
       " 'Commissions Analyst',\n",
       " 'Commissions Supervisor',\n",
       " 'Financial Analyst - SQAH',\n",
       " 'Financial Analyst - SQS',\n",
       " 'Insurance Advisor - KS - February Start',\n",
       " 'Life & Health Advisor',\n",
       " 'Marketing Analyst',\n",
       " 'Marketing Operations Analyst',\n",
       " 'Operations Analyst - SQL',\n",
       " 'Paid Search Intern',\n",
       " 'Payroll Administrator',\n",
       " 'Project Manager',\n",
       " 'Quality Assurance Analyst I',\n",
       " 'SEO Intern',\n",
       " 'SEO Strategist',\n",
       " 'Senior Director, Operations',\n",
       " 'Talent Acquisition Intern',\n",
       " 'Insurance Advisor - SD - February Start',\n",
       " 'Company Representative')"
      ]
     },
     "execution_count": 3,
     "metadata": {},
     "output_type": "execute_result"
    }
   ],
   "source": [
    "getSqJobs()"
   ]
  }
 ],
 "metadata": {
  "kernelspec": {
   "display_name": "Python 3",
   "language": "python",
   "name": "python3"
  },
  "language_info": {
   "codemirror_mode": {
    "name": "ipython",
    "version": 3
   },
   "file_extension": ".py",
   "mimetype": "text/x-python",
   "name": "python",
   "nbconvert_exporter": "python",
   "pygments_lexer": "ipython3",
   "version": "3.7.4"
  }
 },
 "nbformat": 4,
 "nbformat_minor": 2
}
